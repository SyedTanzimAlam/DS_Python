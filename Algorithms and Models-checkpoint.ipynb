{
 "cells": [
  {
   "cell_type": "markdown",
   "metadata": {},
   "source": [
    "# Algorithms and Models :\n",
    "\n",
    "These are few Machine Learning and Data Mining algorithms and models which help you to get great insights from the data.\n",
    "\n",
    "### Supervised Learning\n",
    "Regression,\n",
    "Linear Regression,\n",
    "Ordinary Least Squares,\n",
    "Polynomial Regression,\n",
    "Logistic Regression,\n",
    "Stepwise Regression,\n",
    "Multivariate Adaptive Regression Splines,\n",
    "Locally Estimated Scatterplot Smoothing.\n",
    "\n",
    "#### Classification\n",
    "k-nearest neighbor,\n",
    "Support Vector Machines,\n",
    "Decision Trees,\n",
    "ID3 algorithm,\n",
    "C4.5 algorithm.\n",
    "\n",
    "#### Ensemble Learning:\n",
    "Boosting,\n",
    "Bagging,\n",
    "Random Forest,\n",
    "XGBoost,\n",
    "AdaBoost.\n",
    "\n",
    "### Unsupervised Learning\n",
    "\n",
    "k-means clustering\n",
    "Hierchical clustering,\n",
    "Fuzzy clustering,\n",
    "Mixture models.\n",
    "\n",
    "Neural Networks,\n",
    "Self-organizing map,\n",
    "Adaptive resonance theory.\n",
    "\n",
    "### Semi-Supervised Learning\n",
    "### Reinforcement Learning\n",
    "\n",
    "Q Learning,\n",
    "SARSA (State-Action-Reward-State-Action) algorithm,\n",
    "Temporal difference learning.\n",
    "\n",
    "### Data Mining Algorithms\n",
    "\n",
    "C4.5,\n",
    "k-Means,\n",
    "SVM,\n",
    "Apriori,\n",
    "EM,\n",
    "PageRank,\n",
    "AdaBoost,\n",
    "kNN,\n",
    "Naive Bayes,\n",
    "CART."
   ]
  }
 ],
 "metadata": {
  "kernelspec": {
   "display_name": "Python 3",
   "language": "python",
   "name": "python3"
  },
  "language_info": {
   "codemirror_mode": {
    "name": "ipython",
    "version": 3
   },
   "file_extension": ".py",
   "mimetype": "text/x-python",
   "name": "python",
   "nbconvert_exporter": "python",
   "pygments_lexer": "ipython3",
   "version": "3.6.3"
  }
 },
 "nbformat": 4,
 "nbformat_minor": 2
}
